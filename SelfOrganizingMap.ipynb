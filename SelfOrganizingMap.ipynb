{
 "cells": [
  {
   "cell_type": "markdown",
   "metadata": {},
   "source": [
    "### Exercise1\n",
    "#### 1.a"
   ]
  },
  {
   "cell_type": "code",
   "execution_count": 26,
   "metadata": {},
   "outputs": [],
   "source": [
    "from sklearn import datasets\n",
    "import matplotlib.pyplot as plt\n",
    "import numpy as np"
   ]
  },
  {
   "cell_type": "code",
   "execution_count": 27,
   "metadata": {},
   "outputs": [],
   "source": [
    "#A function to create the S curve\n",
    "def makeSCurve():\n",
    "    n_points = 1000\n",
    "    noise = 0.2\n",
    "    X, color = datasets.make_s_curve(n_points, noise=noise, random_state=0)\n",
    "    Y = np.array([X[:,0], X[:,2]])\n",
    "    Y = Y.T\n",
    "    # Stretch in all directions\n",
    "    Y = Y * 2\n",
    "    # Now add some background noise\n",
    "    xMin = np.min(Y[:,0])\n",
    "    xMax = np.max(Y[:,0])\n",
    "    yMin = np.min(Y[:,1])\n",
    "    yMax = np.max(Y[:,1])\n",
    "    \n",
    "    n_bg = n_points//10\n",
    "    Ybg = np.zeros(shape=(n_bg,2))\n",
    "    Ybg[:,0] = np.random.uniform(low=xMin, high=xMax, size=n_bg)\n",
    "    Ybg[:,1] = np.random.uniform(low=yMin, high=yMax, size=n_bg)\n",
    "    \n",
    "    Y = np.concatenate((Y, Ybg))\n",
    "    return Y"
   ]
  },
  {
   "cell_type": "code",
   "execution_count": 28,
   "metadata": {},
   "outputs": [],
   "source": [
    "def plotDataAndSOM(data, buttons, fileName):\n",
    "    fig = plt.figure(figsize=(8, 8))\n",
    "    # Plot the data in grey\n",
    "    plt.scatter(data[:,0], data[:,1], c='grey')\n",
    "    # Plot the buttons in large red dots\n",
    "    plt.plot(buttons[:,0], buttons[:,1], 'ro', markersize=10)\n",
    "    # Label axes and figure\n",
    "    plt.title('S curve dataset, with buttons in red')\n",
    "    plt.xlabel('X')\n",
    "    plt.ylabel('Y')\n",
    "    plt.savefig(fileName)\n",
    "    "
   ]
  },
  {
   "cell_type": "code",
   "execution_count": 29,
   "metadata": {},
   "outputs": [],
   "source": [
    "# Create a grid of points, dim p x q, and save grid in a (p*q, 2) array\n",
    "#   first column: x-coordinate\n",
    "#   second column: y-coordinate\n",
    "\n",
    "def createGrid(p, q):\n",
    "    index = 0\n",
    "    grid = np.zeros(shape=(p*q, 2))\n",
    "    for i in range(p):\n",
    "        for j in range(q):\n",
    "            index = i*q + j\n",
    "            grid[index, 0] = i\n",
    "            grid[index, 1] = j\n",
    "    return grid"
   ]
  },
  {
   "cell_type": "code",
   "execution_count": 30,
   "metadata": {},
   "outputs": [],
   "source": [
    "\"\"\"\n",
    "A function to plot the crabs results\n",
    "It applies a SOM previously computed (parameters grid and buttons) to a given\n",
    "dataset (parameters data)\n",
    "\n",
    "Parameters\n",
    " X : is the original data that was used to compute the SOM.\n",
    "     Rows are samples and columns are features.\n",
    " idInfo : contains the information (sp and sex for the crab dataset) about\n",
    "          each data point in X.\n",
    "          The rows in idInfo match one-to-one to rows in X.\n",
    " grid, buttons : obtained from computing the SOM on X.\n",
    " fileName : full path to the output file (figure) saved as .pdf or .png\n",
    "\"\"\"\n",
    "def plotSOMCrabs(x, idInfo, grid, buttons, fileName):\n",
    "    # Use the following colors for samples of each pair [species, sex]\n",
    "    # Blue male:     dark blue #0038ff\n",
    "    # Blue female:   cyan      #00eefd\n",
    "    # Orange male:   orange    #ffa22f\n",
    "    # Orange female: yellow    #e9e824\n",
    "    d = x.shape[0]\n",
    "    proj = np.zeros(shape=(d, 2))\n",
    "    zeta = 0.05\n",
    "    for i in range(d):\n",
    "        # Find index of nearest button in FEATURE space\n",
    "        idx = findNearestButtonIndex(x[i], buttons)\n",
    "\n",
    "        # Assign a label in GRID space, with some noise\n",
    "        proj[i, 0] = grid[idx, 0] + np.random.normal(0, zeta, 1)\n",
    "        proj[i, 1] = grid[idx, 1] + np.random.normal(0, zeta, 1)\n",
    "\n",
    "    # Create the plot\n",
    "    fig = plt.figure(figsize=(12, 15))\n",
    "\n",
    "    # Initialize the array that will contain the color assigned to each sample\n",
    "    # Note: Cannot assume a specific ordering of the input file\n",
    "    sample_color = np.array(['#AAAAAA'] * d)\n",
    "\n",
    "    # Define colors and legend for key in plot\n",
    "    class_color = ['#0038ff', '#00eefd', '#ffa22f', '#e9e824']\n",
    "    class_label = ['Blue male', 'Blue female', 'Orange male', 'Orange female']\n",
    "\n",
    "    # Set a pairing of sp and sex\n",
    "    lst_pairs = [['B', 'M'], ['B', 'F'], ['O', 'M'], ['O', 'F']]\n",
    "\n",
    "\t# Iterate through all samples and set their color\n",
    "    for i, pair in enumerate(lst_pairs):\n",
    "        # Get the index to the data points with [sp, sex] == current pair\n",
    "        idx = np.where((idInfo['sp'] == pair[0]) & (idInfo['sex'] == pair[1]))\n",
    "        sample_color[idx] = class_color[i]\n",
    "\n",
    "    # Plot\n",
    "    plt.scatter(grid[:, 0], grid[:, 1], s=2000, facecolors='none')\n",
    "    plt.scatter(proj[:, 0], proj[:, 1], s=50, c=sample_color)\n",
    "    plt.title('Self-organizing map of crabs data', fontsize=16)\n",
    "\n",
    "    # Add key legend\n",
    "    recs = []\n",
    "    for color in class_color:\n",
    "        recs.append(mpatches.Rectangle((0, 0), 1, 1, fc=color))\n",
    "\n",
    "    plt.legend(recs, class_label, loc='lower center', bbox_to_anchor=(1, 0.5))\n",
    "    plt.savefig(fileName)"
   ]
  },
  {
   "cell_type": "code",
   "execution_count": 31,
   "metadata": {},
   "outputs": [],
   "source": [
    "# Function for computing distance in grid space.\n",
    "# Use Euclidean distance.\n",
    "\n",
    "def getGridDist(z0, z1):\n",
    "    return np.sqrt(np.sum((z0-z1)**2))"
   ]
  },
  {
   "cell_type": "code",
   "execution_count": 32,
   "metadata": {},
   "outputs": [],
   "source": [
    "# Function for computing distance in feature space.\n",
    "# Use Euclidean distance.\n",
    "\n",
    "def getFeatureDist(z0, z1):\n",
    "    return np.sqrt(np.sum((z0-z1)**2))"
   ]
  },
  {
   "cell_type": "code",
   "execution_count": 33,
   "metadata": {},
   "outputs": [],
   "source": [
    "# Create distance matrix between points numbered 1,2,...,K=p*q from grid\n",
    "\n",
    "def createGridDistMatrix(grid):\n",
    "    gdm=np.zeros((grid.shape[0],grid.shape[0]))\n",
    "    for i,gp in enumerate(grid):\n",
    "        j=i+1\n",
    "        while j<grid.shape[0]:\n",
    "            gdm[i,j]=getGridDist(gp,grid[j])\n",
    "            gdm[j,i]=gdm[i,j]\n",
    "            j+=1\n",
    "    return gdm"
   ]
  },
  {
   "cell_type": "code",
   "execution_count": 34,
   "metadata": {},
   "outputs": [],
   "source": [
    "# Create array for epsilon. Values in the array decrease to 1.\n",
    "\n",
    "def createEpsilonArray(epsilon_max, N):\n",
    "    rng= np.random.default_rng(12345)\n",
    "    eps= rng.integers(0,epsilon_max,N, endpoint=True)\n",
    "    return np.sort(eps)[::-1]"
   ]
  },
  {
   "cell_type": "code",
   "execution_count": 35,
   "metadata": {},
   "outputs": [],
   "source": [
    "# Create array for alpha. Values in the array decrease from \n",
    "# alpha_max according to the equation in the homework sheet.\n",
    "\n",
    "def createAlphaArray(alpha_max, lambda_, N):\n",
    "    t=np.linspace(1,N-1,N)\n",
    "    alpha= alpha_max-alpha_max*lambda_*t+.5*alpha_max*lambda_**2*t**2\n",
    "    return alpha"
   ]
  },
  {
   "cell_type": "code",
   "execution_count": 36,
   "metadata": {},
   "outputs": [],
   "source": [
    "# X is whole data set, K is number of buttons to choose\n",
    "\n",
    "def initButtons(X, K):\n",
    "    buttons=np.zeros((K, X.shape[1]))\n",
    "    for i in range(K):\n",
    "        for j, x in enumerate(X.T):\n",
    "            buttons[i,j]= np.random.choice(x)\n",
    "    return buttons "
   ]
  },
  {
   "cell_type": "code",
   "execution_count": 37,
   "metadata": {},
   "outputs": [],
   "source": [
    "# x is one data point, buttons is the grid in FEATURE SPACE\n",
    "\n",
    "def findNearestButtonIndex(x, buttons):\n",
    "    dmin=getFeatureDist(x, buttons[0])\n",
    "    idx=0\n",
    "    for i,b in enumerate(buttons):\n",
    "        dm= getFeatureDist(x, b)\n",
    "        if dm<dmin:\n",
    "            idx= i\n",
    "            dmin= dm\n",
    "    return idx"
   ]
  },
  {
   "cell_type": "code",
   "execution_count": 38,
   "metadata": {},
   "outputs": [],
   "source": [
    "# Find all buttons within a neighborhood of epsilon of index IN GRID SPACE \n",
    "# (return a boolean vector)\n",
    "\n",
    "def findButtonsInNhd(index, epsilon, buttons):\n",
    "    bNhd= np.array([getFeatureDist(buttons[index], b) for b in buttons])<epsilon \n",
    "    return bNhd"
   ]
  },
  {
   "cell_type": "code",
   "execution_count": 39,
   "metadata": {},
   "outputs": [],
   "source": [
    "# Do gradient descent step, update each button position IN FEATURE SPACE\n",
    "\n",
    "def updateButtonPosition(button, x, alpha):\n",
    "        return button-alpha*(x-button)"
   ]
  },
  {
   "cell_type": "code",
   "execution_count": 40,
   "metadata": {},
   "outputs": [],
   "source": [
    "# Compute the squared distance between data points and their nearest button\n",
    "\n",
    "def computeError(data, buttons):\n",
    "    se= [np.sum((data-b)**2) for b in buttons]\n",
    "    return np.sum(np.array(se))"
   ]
  },
  {
   "cell_type": "code",
   "execution_count": 41,
   "metadata": {},
   "outputs": [],
   "source": [
    "# Implementation of the self-organizing map (SOM)\n",
    "\n",
    "# Parameters\n",
    "#  X : data, rows are samples and columns are features\n",
    "#  p, q : dimensions of the grid\n",
    "#  N : number of iterations\n",
    "#  alpha_max : upper limit for learning rate\n",
    "#  epsilon_max : upper limit for radius\n",
    "#  compute_error : boolean flag to determine if the error is computed.\n",
    "#                  The computation of the error is time-consuming and may\n",
    "#                  not be necessary every time the function is called.\n",
    "#  lambda_ : decay constant for learning rate\n",
    "                 \n",
    "# Returns\n",
    "#  buttons, grid : the buttons and grid of the newly created SOM\n",
    "#  error : a vector with error values. This vector will contain zeros if \n",
    "#          compute_error is False\n",
    "\n",
    "# TODO: Complete the missing parts in this function following the pseudocode\n",
    "#       in the homework sheet\n",
    "\n",
    "def SOM(X, p, q, N, alpha_max, epsilon_max, compute_error=True, lambda_=0.01):\n",
    "    # 1. Create grid and compute pairwise distances\n",
    "    grid = createGrid(p, q)\n",
    "    gridDistMatrix = createGridDistMatrix(grid)\n",
    "    \n",
    "    # 2. Randomly select K out of d data points as initial positions\n",
    "    #    of the buttons\n",
    "    K = p * q\n",
    "    d = X.shape[1]\n",
    "    buttons = initButtons(X, K)\n",
    "    \n",
    "    # 3. Create a vector of size N for learning rate alpha\n",
    "    alpha= createAlphaArray(alpha_max, lambda_, N)\n",
    "    \n",
    "    # 4. Create a vector of size N for epsilon \n",
    "    epsilon= createEpsilonArray(epsilon_max, N)\n",
    "    \n",
    "    # Initialize a vector with N zeros for the error\n",
    "    # This vector may be returned empty if compute_error is False\n",
    "    error = np.zeros(N)\n",
    "\n",
    "    # 5. Iterate N times\n",
    "    for i in range(N):\n",
    "        # 6. Initialize/update alpha and epsilon\n",
    "        alp= alpha[i]\n",
    "        eps= epsilon[i]\n",
    "        \n",
    "        # 7. Choose a random index t in {1, 2, ..., d}\n",
    "        t= np.random.choice([k for k in range(d)])\n",
    "        \n",
    "        # 8. Find button m_star that is nearest to x_t in F\n",
    "        xt= X[t,:]\n",
    "        mstar = findNearestButtonIndex(xt, buttons)\n",
    "        \n",
    "        # 9. Find all grid points in epsilon-nhd of m_star in GRID SPACE\n",
    "        b_nhd= findButtonsInNhd(mstar, eps, buttons)\n",
    "        buttons_nhd=buttons[b_nhd]\n",
    "\n",
    "        # 10. Update position (in FEATURE SPACE) of all buttons m_j\n",
    "        #     in epsilon-nhd of m_star, including m_star\n",
    "        for j,b in enumerate(buttons_nhd):\n",
    "            buttons_nhd[j]= updateButtonPosition(b, xt, alp)\n",
    "\n",
    "        # Compute the error \n",
    "        # Note: The computation takes place only if compute_error is True\n",
    "        #       Replace the statement below with your code\n",
    "        error[i]= computeError(xt, buttons_nhd)\n",
    "\n",
    "    # 11. Return buttons, grid and error\n",
    "    return (buttons, grid, error)"
   ]
  },
  {
   "cell_type": "markdown",
   "metadata": {},
   "source": [
    "#### 1.b"
   ]
  },
  {
   "cell_type": "code",
   "execution_count": 42,
   "metadata": {},
   "outputs": [
    {
     "data": {
      "image/png": "[encoded data removed]",
      "text/plain": [
       "<Figure size 576x576 with 1 Axes>"
      ]
     },
     "metadata": {
      "needs_background": "light"
     },
     "output_type": "display_data"
    }
   ],
   "source": [
    "X= makeSCurve()\n",
    "p=15\n",
    "q=1\n",
    "N=150\n",
    "alpha_max=1\n",
    "epsilon_max=3\n",
    "buttons, grid, error= SOM(X, p, q, N, alpha_max, epsilon_max, compute_error=True, lambda_=0.01)\n",
    "plotDataAndSOM(X, buttons, 'exercise1b.pdf')"
   ]
  },
  {
   "cell_type": "markdown",
   "metadata": {},
   "source": [
    "#### 1c."
   ]
  },
  {
   "cell_type": "code",
   "execution_count": 43,
   "metadata": {},
   "outputs": [
    {
     "data": {
      "text/plain": [
       "[<matplotlib.lines.Line2D at 0x7f4a9b662210>]"
      ]
     },
     "execution_count": 43,
     "metadata": {},
     "output_type": "execute_result"
    },
    {
     "data": {
      "image/png": "[encoded data removed]",
      "text/plain": [
       "<Figure size 432x288 with 1 Axes>"
      ]
     },
     "metadata": {
      "needs_background": "light"
     },
     "output_type": "display_data"
    }
   ],
   "source": [
    "plt.plot(error, '.--')"
   ]
  },
  {
   "cell_type": "markdown",
   "metadata": {},
   "source": [
    "### Exercise2:\n",
    "#### 2a."
   ]
  },
  {
   "cell_type": "code",
   "execution_count": 44,
   "metadata": {},
   "outputs": [
    {
     "name": "stdout",
     "output_type": "stream",
     "text": [
      "  sp sex  index    FL    RW    CL    CW    BD\n",
      "0  B   M      1   8.3   6.8  16.1  19.0   6.9\n",
      "1  B   M      2   8.9   7.9  18.1  20.6   7.4\n",
      "2  B   M      3   9.1   7.9  19.0  22.6   7.9\n",
      "3  B   M      4   9.5   7.8  20.2  23.3   8.0\n",
      "4  B   M      5  10.0   7.9  20.5  22.8   8.4\n",
      "5  B   M      6  10.9   9.2  22.9  26.3   9.7\n",
      "6  B   M      7  11.0  10.1  23.6  27.0   9.9\n",
      "7  B   M      8  11.7   9.0  24.4  28.2  10.6\n",
      "8  B   M      9  11.7   9.8  24.2  27.6   9.5\n",
      "9  B   M     10  11.7  10.7  25.2  29.3  10.2\n"
     ]
    },
    {
     "data": {
      "text/html": [
       "<div>\n",
       "<style scoped>\n",
       "    .dataframe tbody tr th:only-of-type {\n",
       "        vertical-align: middle;\n",
       "    }\n",
       "\n",
       "    .dataframe tbody tr th {\n",
       "        vertical-align: top;\n",
       "    }\n",
       "\n",
       "    .dataframe thead th {\n",
       "        text-align: right;\n",
       "    }\n",
       "</style>\n",
       "<table border=\"1\" class=\"dataframe\">\n",
       "  <thead>\n",
       "    <tr style=\"text-align: right;\">\n",
       "      <th></th>\n",
       "      <th>FL</th>\n",
       "      <th>RW</th>\n",
       "      <th>CL</th>\n",
       "      <th>CW</th>\n",
       "      <th>BD</th>\n",
       "    </tr>\n",
       "  </thead>\n",
       "  <tbody>\n",
       "    <tr>\n",
       "      <th>0</th>\n",
       "      <td>8.3</td>\n",
       "      <td>6.8</td>\n",
       "      <td>16.1</td>\n",
       "      <td>19.0</td>\n",
       "      <td>6.9</td>\n",
       "    </tr>\n",
       "    <tr>\n",
       "      <th>1</th>\n",
       "      <td>8.9</td>\n",
       "      <td>7.9</td>\n",
       "      <td>18.1</td>\n",
       "      <td>20.6</td>\n",
       "      <td>7.4</td>\n",
       "    </tr>\n",
       "    <tr>\n",
       "      <th>2</th>\n",
       "      <td>9.1</td>\n",
       "      <td>7.9</td>\n",
       "      <td>19.0</td>\n",
       "      <td>22.6</td>\n",
       "      <td>7.9</td>\n",
       "    </tr>\n",
       "    <tr>\n",
       "      <th>3</th>\n",
       "      <td>9.5</td>\n",
       "      <td>7.8</td>\n",
       "      <td>20.2</td>\n",
       "      <td>23.3</td>\n",
       "      <td>8.0</td>\n",
       "    </tr>\n",
       "    <tr>\n",
       "      <th>4</th>\n",
       "      <td>10.0</td>\n",
       "      <td>7.9</td>\n",
       "      <td>20.5</td>\n",
       "      <td>22.8</td>\n",
       "      <td>8.4</td>\n",
       "    </tr>\n",
       "    <tr>\n",
       "      <th>...</th>\n",
       "      <td>...</td>\n",
       "      <td>...</td>\n",
       "      <td>...</td>\n",
       "      <td>...</td>\n",
       "      <td>...</td>\n",
       "    </tr>\n",
       "    <tr>\n",
       "      <th>195</th>\n",
       "      <td>21.6</td>\n",
       "      <td>17.9</td>\n",
       "      <td>41.3</td>\n",
       "      <td>46.2</td>\n",
       "      <td>18.7</td>\n",
       "    </tr>\n",
       "    <tr>\n",
       "      <th>196</th>\n",
       "      <td>21.8</td>\n",
       "      <td>17.3</td>\n",
       "      <td>41.7</td>\n",
       "      <td>47.2</td>\n",
       "      <td>19.7</td>\n",
       "    </tr>\n",
       "    <tr>\n",
       "      <th>197</th>\n",
       "      <td>22.0</td>\n",
       "      <td>17.2</td>\n",
       "      <td>42.5</td>\n",
       "      <td>47.6</td>\n",
       "      <td>19.6</td>\n",
       "    </tr>\n",
       "    <tr>\n",
       "      <th>198</th>\n",
       "      <td>22.4</td>\n",
       "      <td>17.0</td>\n",
       "      <td>43.1</td>\n",
       "      <td>48.7</td>\n",
       "      <td>19.7</td>\n",
       "    </tr>\n",
       "    <tr>\n",
       "      <th>199</th>\n",
       "      <td>23.3</td>\n",
       "      <td>20.3</td>\n",
       "      <td>46.3</td>\n",
       "      <td>52.6</td>\n",
       "      <td>21.1</td>\n",
       "    </tr>\n",
       "  </tbody>\n",
       "</table>\n",
       "<p>200 rows × 5 columns</p>\n",
       "</div>"
      ],
      "text/plain": [
       "       FL    RW    CL    CW    BD\n",
       "0     8.3   6.8  16.1  19.0   6.9\n",
       "1     8.9   7.9  18.1  20.6   7.4\n",
       "2     9.1   7.9  19.0  22.6   7.9\n",
       "3     9.5   7.8  20.2  23.3   8.0\n",
       "4    10.0   7.9  20.5  22.8   8.4\n",
       "..    ...   ...   ...   ...   ...\n",
       "195  21.6  17.9  41.3  46.2  18.7\n",
       "196  21.8  17.3  41.7  47.2  19.7\n",
       "197  22.0  17.2  42.5  47.6  19.6\n",
       "198  22.4  17.0  43.1  48.7  19.7\n",
       "199  23.3  20.3  46.3  52.6  21.1\n",
       "\n",
       "[200 rows x 5 columns]"
      ]
     },
     "execution_count": 44,
     "metadata": {},
     "output_type": "execute_result"
    }
   ],
   "source": [
    "import pandas as pd\n",
    "\n",
    "crabs = pd.read_csv('crabs.csv')\n",
    "print(crabs.head(10))\n",
    "data= crabs[['FL','RW', 'CL', 'CW', 'BD']]\n",
    "data"
   ]
  },
  {
   "cell_type": "code",
   "execution_count": 45,
   "metadata": {},
   "outputs": [],
   "source": [
    "X= data.values\n",
    "p=6\n",
    "q=8\n",
    "N=1000\n",
    "alpha_max=1\n",
    "epsilon_max=3\n",
    "\n",
    "buttons, grid, error= SOM(X, p, q, N, alpha_max, epsilon_max, compute_error=False, lambda_=.002)"
   ]
  },
  {
   "cell_type": "code",
   "execution_count": 46,
   "metadata": {},
   "outputs": [
    {
     "name": "stdout",
     "output_type": "stream",
     "text": [
      "X shape (200, 5)\n",
      "grid shape (48, 2)\n",
      "buttons shape (48, 5)\n"
     ]
    }
   ],
   "source": [
    "print('X shape',X.shape)\n",
    "print('grid shape',grid.shape)\n",
    "print('buttons shape',buttons.shape)\n"
   ]
  },
  {
   "cell_type": "code",
   "execution_count": 53,
   "metadata": {},
   "outputs": [],
   "source": [
    "def getLabels(buttons, X):\n",
    "    N = X.shape[0]\n",
    "    labels = np.zeros(N)\n",
    "    for i in range(N):\n",
    "        #find index of nearest button in feature space\n",
    "        labels[i] = findNearestButtonIndex(X[i], buttons)\n",
    "    return labels"
   ]
  },
  {
   "cell_type": "code",
   "execution_count": 54,
   "metadata": {},
   "outputs": [],
   "source": [
    "crabs = \"crabs.csv\"\n",
    "df = pd.read_csv(crabs)\n",
    "\n",
    "#print(df)\n",
    "#X = df.iloc[:, 3:8].as_matrix()  ####FutureWarning: Method .as_matrix will be removed in a future version. Use .values instead.\n",
    "\n",
    "X = df.iloc[:, 3:8].values\n",
    "\n",
    "idInfo = df.iloc[:, :2]\n",
    "#print(X)\n",
    "# print(idInfo)\n",
    "\n",
    "\n",
    "#just to check it works with other p, q\n",
    "p = 2\n",
    "q = 2\n",
    "p = 6\n",
    "q = 8\n",
    "\n",
    "N = 1000\n",
    "alpha_max = 1\n",
    "eps_max = 3\n",
    "lam = 1e-3\n",
    "np.random.seed(5)\n",
    "buttons, grid, _ = SOM(X, p, q, N, lam, alpha_max, eps_max)\n",
    "\n",
    "labels = getLabels(buttons, X)"
   ]
  },
  {
   "cell_type": "code",
   "execution_count": 56,
   "metadata": {},
   "outputs": [],
   "source": [
    "import matplotlib.patches as mpatches\n",
    "def plotSOMCrabs(grid, X, buttons):\n",
    "    N = X.shape[0]\n",
    "    proj = np.zeros(shape=(N,2))\n",
    "    zeta = 0.05\n",
    "    for i in range(N):\n",
    "        #find index of nearest button in feature space\n",
    "        label = findNearestButtonIndex(X[i], buttons)\n",
    "        \n",
    "        #label in grid space, with some noise to jitter\n",
    "        proj[i,0] = grid[label, 0] + np.random.normal(0, zeta, 1)\n",
    "        proj[i,1] = grid[label, 1] + np.random.normal(0, zeta, 1)\n",
    "    \n",
    "    \n",
    "    #finally, plot the figure\n",
    "    fig = plt.figure(figsize=(12, 12))\n",
    "    #dark blue: #0038ff - Blue male\n",
    "    #cyan:  #00eefd - Blue female\n",
    "    #orange: #ffa22f - Orange male\n",
    "    #yellow: #e9e824 - Orange female\n",
    "    class_colours = np.array(['#0038ff', '#00eefd', '#ffa22f', '#e9e824'])\n",
    "    classes = ['Blue male','Blue female','Orange male', 'Orange female']\n",
    "    colors = class_colours.repeat(N/4)\n",
    "#     plt.scatter(grid[:,0], grid[:,1], s=2000, facecolors='none')\n",
    "    plt.scatter(proj[:,0], proj[:,1], s=50, c=colors)    \n",
    "    plt.title('Self-organising map of crabs data', fontsize=16)\n",
    "\n",
    "    #now make legend\n",
    "    recs = []\n",
    "    for i in range(0,len(class_colours)):\n",
    "        recs.append(mpatches.Rectangle((0,0),1,1,fc=class_colours[i]))\n",
    "    plt.legend(recs,classes, loc='center left', bbox_to_anchor=(1, 0.5))\n",
    "    plt.show()\n"
   ]
  },
  {
   "cell_type": "markdown",
   "metadata": {},
   "source": [
    "2.b"
   ]
  },
  {
   "cell_type": "code",
   "execution_count": 57,
   "metadata": {},
   "outputs": [
    {
     "data": {
      "image/png": "[encoded data removed]",
      "text/plain": [
       "<Figure size 864x864 with 1 Axes>"
      ]
     },
     "metadata": {
      "needs_background": "light"
     },
     "output_type": "display_data"
    }
   ],
   "source": [
    "plotSOMCrabs(grid, X, buttons)"
   ]
  },
  {
   "cell_type": "code",
   "execution_count": null,
   "metadata": {},
   "outputs": [],
   "source": []
  }
 ],
 "metadata": {
  "kernelspec": {
   "display_name": "Python 3 (ipykernel)",
   "language": "python",
   "name": "python3"
  },
  "language_info": {
   "codemirror_mode": {
    "name": "ipython",
    "version": 3
   },
   "file_extension": ".py",
   "mimetype": "text/x-python",
   "name": "python",
   "nbconvert_exporter": "python",
   "pygments_lexer": "ipython3",
   "version": "3.7.6"
  }
 },
 "nbformat": 4,
 "nbformat_minor": 4
}
